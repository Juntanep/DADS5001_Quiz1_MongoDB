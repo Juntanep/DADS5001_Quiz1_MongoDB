{
 "cells": [
  {
   "cell_type": "code",
   "execution_count": 1,
   "id": "a25c2a0a",
   "metadata": {},
   "outputs": [
    {
     "name": "stdout",
     "output_type": "stream",
     "text": [
      "Requirement already satisfied: pysimplegui in c:\\users\\windows10\\anaconda3\\lib\\site-packages (4.60.4)\n",
      "Note: you may need to restart the kernel to use updated packages.\n"
     ]
    }
   ],
   "source": [
    "pip install pysimplegui\n"
   ]
  },
  {
   "cell_type": "code",
   "execution_count": 2,
   "id": "5f41d9d9",
   "metadata": {},
   "outputs": [
    {
     "name": "stdout",
     "output_type": "stream",
     "text": [
      "Requirement already satisfied: mongoengine in c:\\users\\windows10\\anaconda3\\lib\\site-packages (0.24.2)\n",
      "Requirement already satisfied: pymongo<5.0,>=3.4 in c:\\users\\windows10\\anaconda3\\lib\\site-packages (from mongoengine) (4.3.3)\n",
      "Requirement already satisfied: dnspython<3.0.0,>=1.16.0 in c:\\users\\windows10\\anaconda3\\lib\\site-packages (from pymongo<5.0,>=3.4->mongoengine) (2.2.1)\n",
      "Note: you may need to restart the kernel to use updated packages.\n"
     ]
    }
   ],
   "source": [
    "pip install mongoengine"
   ]
  },
  {
   "cell_type": "code",
   "execution_count": 3,
   "id": "e442e765",
   "metadata": {},
   "outputs": [
    {
     "data": {
      "text/plain": [
       "MongoClient(host=['127.0.0.1:27017'], document_class=dict, tz_aware=False, connect=True, read_preference=Primary(), uuidrepresentation=3)"
      ]
     },
     "execution_count": 3,
     "metadata": {},
     "output_type": "execute_result"
    }
   ],
   "source": [
    "#Conect Database\n",
    "from mongoengine import *\n",
    "\n",
    "connect(host=\"mongodb://127.0.0.1:27017/Sales\")\n",
    "\n"
   ]
  },
  {
   "cell_type": "code",
   "execution_count": 4,
   "id": "3e694ab8",
   "metadata": {},
   "outputs": [],
   "source": [
    "#Conect ระหว่าง App และ Database(Mongodb)\n",
    "from mongoengine import connect, Document, fields\n",
    "\n",
    "class User(Document):\n",
    "    meta = {'collection':'S2022'}\n",
    "    year = fields.StringField(required=True)\n",
    "    month = fields.StringField(required=True)\n",
    "    sales = fields.StringField(required=True)\n",
    "    cost = fields.StringField(required=True)\n",
    "#สร้าง Function การใช้งาน(1)\n",
    "def create_sale(year, month, sales, cost):\n",
    "    x = User() \n",
    "    x.year = year\n",
    "    x.month = month\n",
    "    x.sales = sales\n",
    "    x.cost = cost\n",
    "    x.save()\n",
    "\n",
    "def query_contact(month):\n",
    "    x = User.objects(month=month)\n",
    "    return x\n",
    "\n",
    "def delete_sales(month):\n",
    "    x = query_contact(month)\n",
    "    x.delete()\n",
    "    \n"
   ]
  },
  {
   "cell_type": "code",
   "execution_count": 5,
   "id": "232c2860",
   "metadata": {
    "scrolled": true
   },
   "outputs": [
    {
     "name": "stdout",
     "output_type": "stream",
     "text": [
      "Ok {'YEAR': '2022', 'MONTH': 'SEPTEMBER', 'SALES': '199999999', 'COST': '555555555'}\n"
     ]
    }
   ],
   "source": [
    "import PySimpleGUI as sg\n",
    "\n",
    "#สร้าง Interface ของ App\n",
    "sg.theme('SandyBeach')\n",
    "\n",
    "def create_sales_gui():\n",
    "    sg.theme('DarkGray')\n",
    "    layout = [[sg.Text('Please enter product sales info')],\n",
    "              [sg.Text('Year :', size=(15,1)),sg.Combo(['2022','2023'],key='YEAR')],\n",
    "              [sg.Text('Month :', size=(15,1)),\n",
    "               sg.Combo(['JANUARY','FEBUARY','MARCH','APRIL','MAY','JUNE','JULY','AUGUST','SEPTEMBER','OCTOBER','NOVEMVER','DECEMBER']\n",
    "                        ,key='MONTH')],\n",
    "              [sg.Text('Sales (Monthly) :', size=(15,1)), sg.Input(key='SALES',do_not_clear=False)],\n",
    "              [sg.Text('Cost (Monthly) :', size=(15,1)), sg.Input(key='COST',do_not_clear=False)],\n",
    "              [sg.Button('Ok'), sg.Button('Cancel')] ]\n",
    "    \n",
    "    window = sg.Window('Create sales', layout, element_justification='left')\n",
    "    \n",
    "    while True:\n",
    "        event, values = window.read()\n",
    "        if event == sg.WIN_CLOSED or event == 'Cancel':\n",
    "            break\n",
    "        if event == 'Ok':\n",
    "            year = values['YEAR']\n",
    "            month = values['MONTH']\n",
    "            sales = values['SALES']\n",
    "            cost = values['COST']\n",
    "            create_sale(year, month, sales, cost)\n",
    "        for key in values:\n",
    "            window[key].update('')\n",
    "        print(event, values)\n",
    "        sg.popup('File saved')\n",
    "                   \n",
    "def delete_sales_gui():\n",
    "    month = sg.popup_get_text('Please enter sales month')\n",
    "    x = query_contact(month)\n",
    "    if x:\n",
    "        response = sg.popup_ok('Are you sure?')\n",
    "        if response:\n",
    "            delete_sales(month)\n",
    "    else:\n",
    "        sg.popup('User does not exist')\n",
    "\n",
    "def main():\n",
    "    menu = [['File',['Create sales','Delete sales']],\n",
    "            ['Exit',['Quit']]]\n",
    "    layout = [[sg.Menu(menu)],\n",
    "              [sg.Image(r'C:\\Users\\Windows10\\DADS5001\\Mongodb_quiz\\graph1.png')]]\n",
    "\n",
    "# Create the Window\n",
    "    window = sg.Window('Sales 2022', layout)\n",
    "\n",
    "# Event Loop to process \"events\" and get the \"values\" of the inputs\n",
    "    while True:\n",
    "        event, values = window.read()\n",
    "        if event == sg.WIN_CLOSED or event == 'Quit':\n",
    "            break\n",
    "        elif event == 'Create sales':\n",
    "            create_sales_gui()\n",
    "        elif event == 'Update sales':\n",
    "            update_sales_gui()\n",
    "        elif event == 'Delete sales':\n",
    "            delete_sales_gui()\n",
    "        elif event == 'Ok':\n",
    "            print(event, values)\n",
    "    \n",
    "    window.close()\n",
    "if __name__ == '__main__':\n",
    "    main()"
   ]
  },
  {
   "cell_type": "code",
   "execution_count": null,
   "id": "fa326427",
   "metadata": {},
   "outputs": [],
   "source": []
  },
  {
   "cell_type": "code",
   "execution_count": null,
   "id": "372011a5",
   "metadata": {},
   "outputs": [],
   "source": []
  },
  {
   "cell_type": "code",
   "execution_count": null,
   "id": "e0b1d673",
   "metadata": {},
   "outputs": [],
   "source": []
  },
  {
   "cell_type": "code",
   "execution_count": null,
   "id": "6d415186",
   "metadata": {},
   "outputs": [],
   "source": []
  },
  {
   "cell_type": "code",
   "execution_count": null,
   "id": "b54d35e3",
   "metadata": {},
   "outputs": [],
   "source": []
  }
 ],
 "metadata": {
  "kernelspec": {
   "display_name": "Python 3 (ipykernel)",
   "language": "python",
   "name": "python3"
  },
  "language_info": {
   "codemirror_mode": {
    "name": "ipython",
    "version": 3
   },
   "file_extension": ".py",
   "mimetype": "text/x-python",
   "name": "python",
   "nbconvert_exporter": "python",
   "pygments_lexer": "ipython3",
   "version": "3.9.7"
  }
 },
 "nbformat": 4,
 "nbformat_minor": 5
}
